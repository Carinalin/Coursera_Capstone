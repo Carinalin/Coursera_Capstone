{
 "cells": [
  {
   "cell_type": "markdown",
   "metadata": {},
   "source": [
    "# Introduction"
   ]
  },
  {
   "cell_type": "markdown",
   "metadata": {},
   "source": [
    "## 1. Background and Problem"
   ]
  },
  {
   "cell_type": "markdown",
   "metadata": {},
   "source": [
    "* As we all know, New York has always been the strongest state in US. Its gross state product in 2018 was $1.7 trillion. If New York State were an independent nation, it would rank as the 11th largest economy in the world.\n",
    "* However, the economic disparity among cities is being reported all the time. Among the news, it's also worth to pay attention to industrial differentiation.\n",
    "* According to reports, modern finance and business activity are the pillar industries in suburban counties and New York City, while tourism is the main industry supplemented by traditional industries in upstate."
   ]
  },
  {
   "cell_type": "markdown",
   "metadata": {},
   "source": [
    "<font color=red size=3.5>So, what are the industries' differences among cities in New York state?</font>\n",
    "* This is what I aim to answer. With answering this questions, it can provide useful suggestions to stakeholders from all sides:\n",
    "1. **For entrepreneurs**, acknowledging the similarity and dissimilarity among cities in New York state help them decide which cities to expand basing on corporate business. For example, tourism enterprise may intend to expand their business to surrounding cities with rich tourism resources.\n",
    "2. **For job hunters**, they can reselect a city with abundant job opportunities in their areas rather than struggling in the same city. And move to a new city with similar facilities."
   ]
  },
  {
   "cell_type": "markdown",
   "metadata": {},
   "source": [
    "## 2. Data Description"
   ]
  },
  {
   "cell_type": "markdown",
   "metadata": {},
   "source": [
    "* Inspired by the Toronto analysis, I decide to distinguish the cities basing on their venue categories. That is to say, there are three kinds of datasets I should collect, including **list of cities in New York state**, **the latitude and longitude of each city**, and **the information of main venues in each cities**."
   ]
  },
  {
   "cell_type": "markdown",
   "metadata": {},
   "source": [
    "<font color=red size=3.5>Where and how can I get the datasets?</font>\n",
    "* These three datasets require different sources. I will collect them as following:\n",
    "1. **list of cities in New York state**: Fortunately, it's easy to find the list in wikipedia. The link is <https://en.wikipedia.org/wiki/List_of_cities_in_New_York>, and I will scrape the cities' table using pandas.\n",
    "2. **the latitude and longitude of each city**: As shown in the code, I will use geocoders and while syntax to get the location of each city. It might take some time to get the whole data, but the accuracy is guaranteed.\n",
    "***\n",
    "```\n",
    "from geopy.geocoders import Nominatim\n",
    "address = 'New York'\n",
    "geolocator = Nominatim(user_agent=\"ny_explorer\")\n",
    "location = geolocator.geocode(address)\n",
    "latitude = location[-1][0]\n",
    "longitude = location[-1][1]\n",
    "print('The geograpical coordinate of New York City are {}, {}.'.format(latitude, longitude))\n",
    "```\n",
    "***\n",
    "3. **the information of main venues in each cities**: This dataset will use Foursquare location data through API. The function I will use is exploring the nearby venues of a given location."
   ]
  }
 ],
 "metadata": {
  "kernelspec": {
   "display_name": "Python 3",
   "language": "python",
   "name": "python3"
  },
  "language_info": {
   "codemirror_mode": {
    "name": "ipython",
    "version": 3
   },
   "file_extension": ".py",
   "mimetype": "text/x-python",
   "name": "python",
   "nbconvert_exporter": "python",
   "pygments_lexer": "ipython3",
   "version": "3.7.4"
  }
 },
 "nbformat": 4,
 "nbformat_minor": 4
}
